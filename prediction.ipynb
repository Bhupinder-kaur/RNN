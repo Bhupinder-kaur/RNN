{
 "cells": [
  {
   "cell_type": "code",
   "execution_count": 5,
   "id": "5407c3ff",
   "metadata": {},
   "outputs": [
    {
     "name": "stdout",
     "output_type": "stream",
     "text": [
      "WARNING:tensorflow:From s:\\Projects\\Deep Learning\\venv\\Lib\\site-packages\\keras\\src\\losses.py:2976: The name tf.losses.sparse_softmax_cross_entropy is deprecated. Please use tf.compat.v1.losses.sparse_softmax_cross_entropy instead.\n",
      "\n"
     ]
    }
   ],
   "source": [
    "import numpy as np\n",
    "import tensorflow as tf\n",
    "from tensorflow.keras.datasets import imdb\n",
    "from tensorflow.keras.preprocessing import sequence\n",
    "from tensorflow.keras.models import load_model"
   ]
  },
  {
   "cell_type": "code",
   "execution_count": 6,
   "metadata": {},
   "outputs": [],
   "source": [
    "word_index = imdb.get_word_index()\n",
    "reverse_word_index = {value: key for key, value in word_index.items()}"
   ]
  },
  {
   "cell_type": "code",
   "execution_count": 7,
   "metadata": {},
   "outputs": [
    {
     "name": "stdout",
     "output_type": "stream",
     "text": [
      "WARNING:tensorflow:From s:\\Projects\\Deep Learning\\venv\\Lib\\site-packages\\keras\\src\\backend.py:1398: The name tf.executing_eagerly_outside_functions is deprecated. Please use tf.compat.v1.executing_eagerly_outside_functions instead.\n",
      "\n",
      "Model: \"sequential_3\"\n",
      "_________________________________________________________________\n",
      " Layer (type)                Output Shape              Param #   \n",
      "=================================================================\n",
      " embedding_2 (Embedding)     (None, 500, 128)          1280000   \n",
      "                                                                 \n",
      " simple_rnn_1 (SimpleRNN)    (None, 128)               32896     \n",
      "                                                                 \n",
      " dense_1 (Dense)             (None, 1)                 129       \n",
      "                                                                 \n",
      "=================================================================\n",
      "Total params: 1313025 (5.01 MB)\n",
      "Trainable params: 1313025 (5.01 MB)\n",
      "Non-trainable params: 0 (0.00 Byte)\n",
      "_________________________________________________________________\n"
     ]
    }
   ],
   "source": [
    "model = load_model('simple_rnn_imdb.h5')\n",
    "model.summary()"
   ]
  },
  {
   "cell_type": "code",
   "execution_count": 8,
   "metadata": {},
   "outputs": [
    {
     "data": {
      "text/plain": [
       "[array([[ 0.01070208, -0.01933783, -0.03750468, ...,  0.01353729,\n",
       "          0.00546898,  0.08986326],\n",
       "        [ 0.0840014 , -0.00090443,  0.01579539, ..., -0.04782776,\n",
       "         -0.07067365,  0.06986916],\n",
       "        [ 0.00408791, -0.03769513, -0.01367687, ..., -0.01198804,\n",
       "         -0.03227752,  0.13239674],\n",
       "        ...,\n",
       "        [-0.11968536, -0.09680491,  0.09645189, ...,  0.04014942,\n",
       "          0.15713409, -0.15450424],\n",
       "        [-0.26688844, -0.18745247,  0.15069711, ...,  0.14621854,\n",
       "          0.23630929, -0.13865791],\n",
       "        [-0.09599537, -0.01607973,  0.03740888, ...,  0.05202675,\n",
       "          0.25522268,  0.02951526]], dtype=float32),\n",
       " array([[ 0.01551184, -0.11731037, -0.04475688, ...,  0.07463161,\n",
       "         -0.06941459, -0.1232692 ],\n",
       "        [-0.04177024,  0.01877927, -0.07250721, ..., -0.07323603,\n",
       "         -0.02105667,  0.19229946],\n",
       "        [ 0.07879552, -0.01473563, -0.06721277, ..., -0.14895047,\n",
       "         -0.16411857, -0.07813543],\n",
       "        ...,\n",
       "        [-0.19083631, -0.19114791, -0.14122953, ...,  0.09150223,\n",
       "          0.13030021,  0.04165906],\n",
       "        [ 0.11022697, -0.21022698, -0.09122134, ..., -0.14146383,\n",
       "         -0.09788751, -0.1487433 ],\n",
       "        [ 0.02857063,  0.11284143, -0.22471271, ...,  0.00705783,\n",
       "          0.06390641, -0.13302934]], dtype=float32),\n",
       " array([[ 0.11446179,  0.10696384, -0.26715866, ..., -0.34775603,\n",
       "          0.01243799, -0.18603753],\n",
       "        [ 0.00265783, -0.05164076, -0.10162222, ...,  0.02544692,\n",
       "          0.07973269, -0.09818008],\n",
       "        [-0.19563834,  0.12198862, -0.14953956, ...,  0.04851564,\n",
       "         -0.07832322,  0.02398437],\n",
       "        ...,\n",
       "        [-0.09356655,  0.01054144, -0.10273425, ..., -0.09134593,\n",
       "         -0.09610489,  0.00087386],\n",
       "        [ 0.29769138,  0.16302705,  0.06685636, ...,  0.07712491,\n",
       "          0.25655678, -0.0118781 ],\n",
       "        [ 0.12041377, -0.05565478,  0.1056691 , ..., -0.10934979,\n",
       "          0.03365169, -0.06118288]], dtype=float32),\n",
       " array([-0.06652796, -0.0098032 , -0.03046822, -0.02173999,  0.04360545,\n",
       "        -0.01591845,  0.06162381,  0.03189505, -0.02055713,  0.08462738,\n",
       "         0.01097049, -0.00900211, -0.02693127, -0.04498117, -0.06249114,\n",
       "        -0.02501434,  0.00116726,  0.02888104, -0.01135323, -0.01675611,\n",
       "        -0.00433243, -0.01423584, -0.04746085,  0.02253693, -0.01519804,\n",
       "        -0.05640348, -0.03518157, -0.02050414, -0.03104401,  0.085952  ,\n",
       "        -0.01026259, -0.01414353, -0.06525724, -0.02674965, -0.03318379,\n",
       "         0.00676825, -0.04695647,  0.01575946,  0.01894822, -0.06288064,\n",
       "         0.0708676 ,  0.06006809,  0.0490393 ,  0.01986438,  0.0063246 ,\n",
       "        -0.02221132, -0.00935318, -0.01616319, -0.04744508, -0.01532879,\n",
       "         0.00193228,  0.03441224, -0.0880971 ,  0.02966561, -0.01553978,\n",
       "         0.01590338,  0.06684282,  0.03431909, -0.05448045, -0.00362551,\n",
       "        -0.00405171, -0.05185042, -0.03020752, -0.01203662, -0.01604029,\n",
       "         0.00899853, -0.02551329, -0.04169655, -0.04146742, -0.00799124,\n",
       "        -0.0160684 ,  0.00870061, -0.01764206,  0.01188321, -0.02198959,\n",
       "        -0.02046114, -0.02083131, -0.00952933, -0.01000041, -0.03622521,\n",
       "         0.02017979, -0.02096895, -0.0303705 , -0.00554148,  0.00273084,\n",
       "        -0.0535342 , -0.01262605, -0.02168432, -0.00233986,  0.00787855,\n",
       "        -0.03791425, -0.00688911, -0.03036167, -0.10126518, -0.07169992,\n",
       "        -0.02893103, -0.02321493, -0.09751512, -0.00825536, -0.03571768,\n",
       "        -0.08763782, -0.02128049, -0.05251367,  0.05847579,  0.0107514 ,\n",
       "        -0.02633484, -0.02657767, -0.01416024, -0.07778461, -0.05735746,\n",
       "        -0.03094302,  0.00691888,  0.01954902, -0.04021741, -0.0117671 ,\n",
       "        -0.00378121,  0.00444902, -0.01669334, -0.00912919, -0.01899168,\n",
       "         0.07277372,  0.0238674 , -0.01207931, -0.02404174, -0.07656051,\n",
       "        -0.03166533, -0.07061165,  0.02975156], dtype=float32),\n",
       " array([[ 3.71313356e-02],\n",
       "        [-2.49392360e-01],\n",
       "        [ 3.81151319e-01],\n",
       "        [ 9.13091376e-02],\n",
       "        [-2.71237671e-01],\n",
       "        [ 2.75657296e-01],\n",
       "        [ 5.74498735e-02],\n",
       "        [ 1.20898128e-01],\n",
       "        [ 2.90816903e-01],\n",
       "        [ 3.52217853e-01],\n",
       "        [ 1.71155464e-02],\n",
       "        [ 8.38060901e-02],\n",
       "        [ 1.78574726e-01],\n",
       "        [ 1.36806577e-01],\n",
       "        [-3.98074947e-02],\n",
       "        [-1.16862014e-01],\n",
       "        [ 1.38688385e-01],\n",
       "        [-7.02251568e-02],\n",
       "        [ 2.25247458e-01],\n",
       "        [ 5.09080850e-02],\n",
       "        [-1.19981989e-02],\n",
       "        [ 1.60084322e-01],\n",
       "        [ 1.80684462e-01],\n",
       "        [ 3.20565253e-01],\n",
       "        [ 1.58756375e+00],\n",
       "        [-8.98414925e-02],\n",
       "        [ 2.14501247e-01],\n",
       "        [ 3.33222449e-01],\n",
       "        [ 1.77438825e-01],\n",
       "        [ 1.16848752e-01],\n",
       "        [-1.97607756e-01],\n",
       "        [ 2.60599136e-01],\n",
       "        [ 6.03512190e-02],\n",
       "        [-8.66581872e-02],\n",
       "        [-7.88716614e-01],\n",
       "        [-2.39609152e-01],\n",
       "        [ 1.74148425e-01],\n",
       "        [ 1.79449409e-01],\n",
       "        [ 1.86428234e-01],\n",
       "        [-9.77152064e-02],\n",
       "        [ 2.05803216e-01],\n",
       "        [ 1.43779680e-01],\n",
       "        [-6.46129668e-01],\n",
       "        [-1.11340083e-01],\n",
       "        [ 3.69615015e-03],\n",
       "        [-4.20761704e-02],\n",
       "        [-1.30883679e-01],\n",
       "        [-1.52501494e-01],\n",
       "        [ 1.79759473e-01],\n",
       "        [-6.38802528e-01],\n",
       "        [-6.69156536e-02],\n",
       "        [ 1.99271753e-01],\n",
       "        [-3.43862981e-01],\n",
       "        [ 1.17172703e-01],\n",
       "        [-1.99805439e-01],\n",
       "        [ 4.75100875e-02],\n",
       "        [-1.34678006e-01],\n",
       "        [ 2.11280603e-02],\n",
       "        [-1.21286578e-01],\n",
       "        [ 6.32709190e-02],\n",
       "        [-2.05043294e-02],\n",
       "        [ 8.18118732e-03],\n",
       "        [ 1.99658036e-01],\n",
       "        [-1.01166628e-01],\n",
       "        [ 1.31456718e-01],\n",
       "        [-1.99127093e-01],\n",
       "        [ 1.91538651e-02],\n",
       "        [ 3.14866036e-01],\n",
       "        [ 2.19892874e-01],\n",
       "        [-1.15996845e-01],\n",
       "        [-2.06331566e-01],\n",
       "        [ 4.03108075e-02],\n",
       "        [ 2.45526478e-01],\n",
       "        [ 1.71989828e-01],\n",
       "        [ 2.31480330e-01],\n",
       "        [-8.12524498e-01],\n",
       "        [ 6.82784468e-02],\n",
       "        [-6.52345736e-03],\n",
       "        [-1.37020200e-01],\n",
       "        [ 2.38881707e-01],\n",
       "        [-1.24761963e+00],\n",
       "        [ 7.66820014e-02],\n",
       "        [-2.06135735e-01],\n",
       "        [ 7.17719197e-02],\n",
       "        [ 2.09183276e-01],\n",
       "        [-5.48401833e-01],\n",
       "        [-2.12574750e-01],\n",
       "        [ 1.07880250e-01],\n",
       "        [-1.36298463e-01],\n",
       "        [ 2.11076468e-01],\n",
       "        [ 1.84820905e-01],\n",
       "        [-1.50581254e-02],\n",
       "        [ 1.78414583e-01],\n",
       "        [ 8.17856416e-02],\n",
       "        [ 1.52583316e-01],\n",
       "        [ 1.04561716e-01],\n",
       "        [-9.46756974e-02],\n",
       "        [-2.02391088e-01],\n",
       "        [-1.50897086e-01],\n",
       "        [-5.02272360e-02],\n",
       "        [ 1.11754656e-01],\n",
       "        [ 4.24025245e-02],\n",
       "        [ 1.81610659e-01],\n",
       "        [ 1.97329625e-01],\n",
       "        [ 4.13243547e-02],\n",
       "        [ 9.50354561e-02],\n",
       "        [ 7.04226084e-03],\n",
       "        [ 8.43266100e-02],\n",
       "        [ 1.65241227e-01],\n",
       "        [ 2.17352822e-01],\n",
       "        [-2.12427393e-01],\n",
       "        [ 4.33386981e-01],\n",
       "        [ 3.62834707e-02],\n",
       "        [-1.21809110e-01],\n",
       "        [ 2.51449823e-01],\n",
       "        [-1.40949667e-01],\n",
       "        [-2.58171648e-01],\n",
       "        [-6.35365844e-02],\n",
       "        [ 6.46600127e-02],\n",
       "        [-1.06579185e-01],\n",
       "        [-2.69691944e-01],\n",
       "        [-4.92065489e-01],\n",
       "        [ 2.96501734e-04],\n",
       "        [-2.25741789e-01],\n",
       "        [-2.68294781e-01],\n",
       "        [-5.55762708e-01],\n",
       "        [ 4.30496454e-01],\n",
       "        [ 2.08495125e-01]], dtype=float32),\n",
       " array([-2.7538645], dtype=float32)]"
      ]
     },
     "execution_count": 8,
     "metadata": {},
     "output_type": "execute_result"
    }
   ],
   "source": [
    "model.get_weights()"
   ]
  },
  {
   "cell_type": "code",
   "execution_count": 9,
   "metadata": {},
   "outputs": [],
   "source": [
    "def decode_review(encoded_review):\n",
    "    return ' '.join([reverse_word_index.get(i - 3, '?') for i in encoded_review])\n",
    "\n",
    "def preprocess_text(text):\n",
    "    words = text.lower().split()\n",
    "    encoded_review = [word_index.get(word, 2) + 3 for word in words]\n",
    "    padded_review = sequence.pad_sequences([encoded_review], maxlen=500)\n",
    "    return padded_review"
   ]
  },
  {
   "cell_type": "code",
   "execution_count": 10,
   "metadata": {},
   "outputs": [],
   "source": [
    "def predict_sentiment(review):\n",
    "    preprocessed_input=preprocess_text(review)\n",
    "\n",
    "    prediction=model.predict(preprocessed_input)\n",
    "\n",
    "    sentiment = 'Positive' if prediction[0][0] > 0.5 else 'Negative'\n",
    "    \n",
    "    return sentiment, prediction[0][0]"
   ]
  },
  {
   "cell_type": "code",
   "execution_count": 11,
   "metadata": {},
   "outputs": [
    {
     "name": "stdout",
     "output_type": "stream",
     "text": [
      "1/1 [==============================] - 0s 355ms/step\n",
      "Review: This movie was fantastic! The acting was great and the plot was thrilling.\n",
      "Sentiment: Positive\n",
      "Prediction Score: 0.7651779055595398\n"
     ]
    }
   ],
   "source": [
    "example_review = \"This movie was fantastic! The acting was great and the plot was thrilling.\"\n",
    "\n",
    "sentiment,score=predict_sentiment(example_review)\n",
    "\n",
    "print(f'Review: {example_review}')\n",
    "print(f'Sentiment: {sentiment}')\n",
    "print(f'Prediction Score: {score}')"
   ]
  },
  {
   "cell_type": "code",
   "execution_count": null,
   "metadata": {},
   "outputs": [],
   "source": []
  },
  {
   "cell_type": "code",
   "execution_count": null,
   "metadata": {},
   "outputs": [],
   "source": []
  },
  {
   "cell_type": "code",
   "execution_count": null,
   "metadata": {},
   "outputs": [],
   "source": []
  },
  {
   "cell_type": "code",
   "execution_count": null,
   "metadata": {},
   "outputs": [],
   "source": []
  },
  {
   "cell_type": "code",
   "execution_count": null,
   "metadata": {},
   "outputs": [],
   "source": []
  },
  {
   "cell_type": "code",
   "execution_count": null,
   "metadata": {},
   "outputs": [],
   "source": []
  },
  {
   "cell_type": "code",
   "execution_count": null,
   "metadata": {},
   "outputs": [],
   "source": []
  },
  {
   "cell_type": "code",
   "execution_count": null,
   "metadata": {},
   "outputs": [],
   "source": []
  },
  {
   "cell_type": "code",
   "execution_count": null,
   "metadata": {},
   "outputs": [],
   "source": []
  },
  {
   "cell_type": "code",
   "execution_count": null,
   "metadata": {},
   "outputs": [],
   "source": []
  },
  {
   "cell_type": "code",
   "execution_count": null,
   "metadata": {},
   "outputs": [],
   "source": []
  },
  {
   "cell_type": "code",
   "execution_count": null,
   "id": "182959f5",
   "metadata": {},
   "outputs": [],
   "source": []
  },
  {
   "cell_type": "code",
   "execution_count": null,
   "id": "e3949ccd",
   "metadata": {},
   "outputs": [],
   "source": []
  }
 ],
 "metadata": {
  "kernelspec": {
   "display_name": "Python 3",
   "language": "python",
   "name": "python3"
  },
  "language_info": {
   "codemirror_mode": {
    "name": "ipython",
    "version": 3
   },
   "file_extension": ".py",
   "mimetype": "text/x-python",
   "name": "python",
   "nbconvert_exporter": "python",
   "pygments_lexer": "ipython3",
   "version": "3.11.0"
  }
 },
 "nbformat": 4,
 "nbformat_minor": 5
}
